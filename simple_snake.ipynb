{
 "cells": [
  {
   "cell_type": "markdown",
   "metadata": {},
   "source": [
    "# Making Snake\n",
    "\n",
    "Initialize pygame."
   ]
  },
  {
   "cell_type": "code",
   "execution_count": 1,
   "metadata": {},
   "outputs": [
    {
     "name": "stdout",
     "output_type": "stream",
     "text": [
      "pygame 2.5.2 (SDL 2.28.3, Python 3.12.0)\n",
      "Hello from the pygame community. https://www.pygame.org/contribute.html\n"
     ]
    },
    {
     "data": {
      "text/plain": [
       "(5, 0)"
      ]
     },
     "execution_count": 1,
     "metadata": {},
     "output_type": "execute_result"
    }
   ],
   "source": [
    "import pygame\n",
    "import time\n",
    "import random\n",
    "\n",
    "pygame.init()"
   ]
  },
  {
   "cell_type": "code",
   "execution_count": 2,
   "metadata": {},
   "outputs": [],
   "source": [
    "#setup display - define dimensions of the game window\n",
    "\n",
    "#screen dimensions\n",
    "width = 1000\n",
    "height = 1000\n",
    "\n",
    "#create screen object\n",
    "screen = pygame.display.set_mode((width,height))\n",
    "\n",
    "#title\n",
    "pygame.display.set_caption('Snake')"
   ]
  },
  {
   "cell_type": "code",
   "execution_count": 3,
   "metadata": {},
   "outputs": [],
   "source": [
    "#set colors using RGB values\n",
    "black = (0, 0, 0)\n",
    "white = (255, 255, 255)\n",
    "red = (213, 50, 80)\n",
    "green = (0, 255, 0)\n",
    "blue = (50, 153, 213)"
   ]
  },
  {
   "cell_type": "markdown",
   "metadata": {},
   "source": [
    "# Set Game Loop and Event Handling"
   ]
  },
  {
   "cell_type": "code",
   "execution_count": 6,
   "metadata": {},
   "outputs": [],
   "source": [
    "#initial variables\n",
    "\n",
    "#initializing clock, setting size of snake and speed\n",
    "clock = pygame.time.Clock()\n",
    "snake_block = 10\n",
    "snake_speed = 15\n",
    "\n",
    "#fonts\n",
    "font_style = pygame.font.SysFont(None, 50)\n",
    "score_font = pygame.font.SysFont(None, 35)"
   ]
  },
  {
   "cell_type": "code",
   "execution_count": 5,
   "metadata": {},
   "outputs": [],
   "source": [
    "#drawing snake\n",
    "\n",
    "def our_snake(snake_block, snake_list):\n",
    "    for x in snake_list:\n",
    "        pygame.draw.rect(screen, white, [x[0], x[1], snake_block, snake_block])"
   ]
  },
  {
   "cell_type": "code",
   "execution_count": 7,
   "metadata": {},
   "outputs": [],
   "source": [
    "#display score\n",
    "\n",
    "def Your_score(score):\n",
    "    value = score_font.render(\"Your Score: \" + str(score), True, white)\n",
    "    screen.blit(value, [0, 0])"
   ]
  },
  {
   "cell_type": "code",
   "execution_count": 8,
   "metadata": {},
   "outputs": [],
   "source": [
    "#function to display messages on screen\n",
    "\n",
    "def message(msg, color):\n",
    "    mesg = font_style.render(msg, True, color)\n",
    "    screen.blit(mesg, [width / 6, height / 3])"
   ]
  },
  {
   "cell_type": "code",
   "execution_count": 9,
   "metadata": {},
   "outputs": [
    {
     "ename": "",
     "evalue": "",
     "output_type": "error",
     "traceback": [
      "\u001b[1;31mThe Kernel crashed while executing code in the current cell or a previous cell. \n",
      "\u001b[1;31mPlease review the code in the cell(s) to identify a possible cause of the failure. \n",
      "\u001b[1;31mClick <a href='https://aka.ms/vscodeJupyterKernelCrash'>here</a> for more info. \n",
      "\u001b[1;31mView Jupyter <a href='command:jupyter.viewOutput'>log</a> for further details."
     ]
    }
   ],
   "source": [
    "#main game loop\n",
    "\n",
    "def gameLoop():\n",
    "    game_over = False\n",
    "    game_close = False\n",
    "\n",
    "    #initial position of the snake's head\n",
    "    x1 = width / 2\n",
    "    y1 = height / 2\n",
    "\n",
    "    #change in position (initially zero)\n",
    "    x1_change = 0\n",
    "    y1_change = 0\n",
    "\n",
    "    #start with 1 block as the snake's length\n",
    "    snake_List = []\n",
    "    Length_of_snake = 1\n",
    "\n",
    "    #generate initial position for the food\n",
    "    foodx = round(random.randrange(0, width - snake_block) / 10.0) * 10.0\n",
    "    foody = round(random.randrange(0, height - snake_block) / 10.0) * 10.0\n",
    "\n",
    "    #initial snake speed\n",
    "    snake_speed = 15\n",
    "\n",
    "    #main game loop\n",
    "    while not game_over:\n",
    "\n",
    "        #loop for when the game is over but waiting for player input to quit or restart\n",
    "        while game_close:\n",
    "            screen.fill(blue)\n",
    "            message(\"you lost! press q-quit or c-play again\", red)\n",
    "            pygame.display.update()\n",
    "\n",
    "            #event handling loop\n",
    "            for event in pygame.event.get():\n",
    "                if event.type == pygame.KEYDOWN:\n",
    "                    if event.key == pygame.K_q:\n",
    "                        game_over = True  #quit game\n",
    "                        game_close = False\n",
    "                    if event.key == pygame.K_c:\n",
    "                        gameLoop()  #restart game\n",
    "\n",
    "        #event handling loop for game play\n",
    "        for event in pygame.event.get():\n",
    "            if event.type == pygame.QUIT:\n",
    "                game_over = True  #quit game\n",
    "            if event.type == pygame.KEYDOWN:\n",
    "                if event.key == pygame.K_LEFT:\n",
    "                    if x1_change == 0:  #only change direction if not moving horizontally\n",
    "                        x1_change = -snake_block\n",
    "                        y1_change = 0\n",
    "                elif event.key == pygame.K_RIGHT:\n",
    "                    if x1_change == 0:  #only change direction if not moving horizontally\n",
    "                        x1_change = snake_block\n",
    "                        y1_change = 0\n",
    "                elif event.key == pygame.K_UP:\n",
    "                    if y1_change == 0:  #only change direction if not moving vertically\n",
    "                        y1_change = -snake_block\n",
    "                        x1_change = 0\n",
    "                elif event.key == pygame.K_DOWN:\n",
    "                    if y1_change == 0:  #only change direction if not moving vertically\n",
    "                        y1_change = snake_block\n",
    "                        x1_change = 0\n",
    "\n",
    "        #check if snake hits the boundaries\n",
    "        if x1 >= width or x1 < 0 or y1 >= height or y1 < 0:\n",
    "            game_close = True\n",
    "\n",
    "        #update snake's head position\n",
    "        x1 += x1_change\n",
    "        y1 += y1_change\n",
    "        screen.fill(black)\n",
    "        pygame.draw.rect(screen, green, [foodx, foody, snake_block, snake_block])\n",
    "\n",
    "        #update snake's body\n",
    "        snake_Head = []\n",
    "        snake_Head.append(x1)\n",
    "        snake_Head.append(y1)\n",
    "        snake_List.append(snake_Head)\n",
    "        if len(snake_List) > Length_of_snake:\n",
    "            del snake_List[0]\n",
    "\n",
    "        #check if snake collides with itself\n",
    "        for x in snake_List[:-1]:\n",
    "            if x == snake_Head:\n",
    "                game_close = True\n",
    "\n",
    "        #draw the snake and update the score\n",
    "        our_snake(snake_block, snake_List)\n",
    "        Your_score(Length_of_snake - 1)\n",
    "\n",
    "        pygame.display.update()\n",
    "\n",
    "        #check if snake has eaten the food\n",
    "        if x1 == foodx and y1 == foody:\n",
    "            foodx = round(random.randrange(0, width - snake_block) / 10.0) * 10.0\n",
    "            foody = round(random.randrange(0, height - snake_block) / 10.0) * 10.0\n",
    "            Length_of_snake += 1\n",
    "\n",
    "            #increase snake speed every 10 points\n",
    "            if (Length_of_snake - 1) % 10 == 0:\n",
    "                snake_speed += 3\n",
    "\n",
    "        #control the speed of the snake\n",
    "        clock.tick(snake_speed)\n",
    "\n",
    "    #quit the game\n",
    "    pygame.quit()\n",
    "    quit()\n",
    "\n",
    "gameLoop()\n"
   ]
  }
 ],
 "metadata": {
  "kernelspec": {
   "display_name": "Python 3",
   "language": "python",
   "name": "python3"
  },
  "language_info": {
   "codemirror_mode": {
    "name": "ipython",
    "version": 3
   },
   "file_extension": ".py",
   "mimetype": "text/x-python",
   "name": "python",
   "nbconvert_exporter": "python",
   "pygments_lexer": "ipython3",
   "version": "3.12.0"
  }
 },
 "nbformat": 4,
 "nbformat_minor": 2
}
